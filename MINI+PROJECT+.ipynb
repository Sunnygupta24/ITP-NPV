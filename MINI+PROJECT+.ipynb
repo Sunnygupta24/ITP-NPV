{
 "cells": [
  {
   "cell_type": "markdown",
   "id": "eb955e76",
   "metadata": {},
   "source": [
    "# IMPORTNG THE ESSENTIAL LIBRARY FOR THE DATA \n",
    "\n"
   ]
  },
  {
   "cell_type": "code",
   "execution_count": null,
   "id": "f466d485",
   "metadata": {},
   "outputs": [],
   "source": [
    "import numpy as np\n",
    "import pandas as pd\n"
   ]
  },
  {
   "cell_type": "code",
   "execution_count": 30,
   "id": "8d8e79e1",
   "metadata": {},
   "outputs": [
    {
     "data": {
      "text/html": [
       "<div>\n",
       "<style scoped>\n",
       "    .dataframe tbody tr th:only-of-type {\n",
       "        vertical-align: middle;\n",
       "    }\n",
       "\n",
       "    .dataframe tbody tr th {\n",
       "        vertical-align: top;\n",
       "    }\n",
       "\n",
       "    .dataframe thead th {\n",
       "        text-align: right;\n",
       "    }\n",
       "</style>\n",
       "<table border=\"1\" class=\"dataframe\">\n",
       "  <thead>\n",
       "    <tr style=\"text-align: right;\">\n",
       "      <th></th>\n",
       "      <th>Sender</th>\n",
       "      <th>Receiver</th>\n",
       "      <th>Start date</th>\n",
       "      <th>Delivery date</th>\n",
       "      <th>Sender location</th>\n",
       "      <th>Receiver location</th>\n",
       "      <th>Delivery status</th>\n",
       "      <th>Shipping cost</th>\n",
       "    </tr>\n",
       "  </thead>\n",
       "  <tbody>\n",
       "    <tr>\n",
       "      <th>101</th>\n",
       "      <td>1</td>\n",
       "      <td>3</td>\n",
       "      <td>14-03-2020</td>\n",
       "      <td>25-03-2020</td>\n",
       "      <td>Area 1</td>\n",
       "      <td>Area 6</td>\n",
       "      <td>Delivered</td>\n",
       "      <td>198</td>\n",
       "    </tr>\n",
       "    <tr>\n",
       "      <th>102</th>\n",
       "      <td>4</td>\n",
       "      <td>1</td>\n",
       "      <td>18-06-2020</td>\n",
       "      <td>09-07-2020</td>\n",
       "      <td>Area 2</td>\n",
       "      <td>Area 4</td>\n",
       "      <td>Delivered</td>\n",
       "      <td>275</td>\n",
       "    </tr>\n",
       "    <tr>\n",
       "      <th>103</th>\n",
       "      <td>2</td>\n",
       "      <td>3</td>\n",
       "      <td>01-12-2020</td>\n",
       "      <td>Null</td>\n",
       "      <td>Area 5</td>\n",
       "      <td>Area 1</td>\n",
       "      <td>In Transit</td>\n",
       "      <td>200</td>\n",
       "    </tr>\n",
       "    <tr>\n",
       "      <th>104</th>\n",
       "      <td>1</td>\n",
       "      <td>5</td>\n",
       "      <td>23-06-2020</td>\n",
       "      <td>25-06-2020</td>\n",
       "      <td>Area 1</td>\n",
       "      <td>Area 4</td>\n",
       "      <td>Delivered</td>\n",
       "      <td>314</td>\n",
       "    </tr>\n",
       "    <tr>\n",
       "      <th>105</th>\n",
       "      <td>3</td>\n",
       "      <td>4</td>\n",
       "      <td>29-08-2020</td>\n",
       "      <td>10-09-2020</td>\n",
       "      <td>Area 5</td>\n",
       "      <td>Area 3</td>\n",
       "      <td>Delivered</td>\n",
       "      <td>275</td>\n",
       "    </tr>\n",
       "    <tr>\n",
       "      <th>106</th>\n",
       "      <td>5</td>\n",
       "      <td>2</td>\n",
       "      <td>28-06-2020</td>\n",
       "      <td>Null</td>\n",
       "      <td>Area 3</td>\n",
       "      <td>Area 1</td>\n",
       "      <td>In Transit</td>\n",
       "      <td>270</td>\n",
       "    </tr>\n",
       "  </tbody>\n",
       "</table>\n",
       "</div>"
      ],
      "text/plain": [
       "    Sender Receiver  Start date Delivery date Sender location  \\\n",
       "101      1        3  14-03-2020    25-03-2020          Area 1   \n",
       "102      4        1  18-06-2020    09-07-2020          Area 2   \n",
       "103      2        3  01-12-2020          Null          Area 5   \n",
       "104      1        5  23-06-2020    25-06-2020          Area 1   \n",
       "105      3        4  29-08-2020    10-09-2020          Area 5   \n",
       "106      5        2  28-06-2020          Null          Area 3   \n",
       "\n",
       "    Receiver location Delivery status Shipping cost  \n",
       "101            Area 6       Delivered           198  \n",
       "102            Area 4       Delivered           275  \n",
       "103            Area 1      In Transit           200  \n",
       "104            Area 4       Delivered           314  \n",
       "105            Area 3       Delivered           275  \n",
       "106            Area 1      In Transit           270  "
      ]
     },
     "execution_count": 30,
     "metadata": {},
     "output_type": "execute_result"
    }
   ],
   "source": [
    "#Q1. Create a Dictionary of lists to store the information of shipments given in the table. The key should be the shipment id and the value with it’s details. \n",
    "\n",
    "\n",
    "ds ={101:{'Sender':1,'Receiver':3,'Start date':'14-03-2020','Delivery date':'25-03-2020','Sender location':'Area 1','Receiver location':'Area 6','Delivery status':'Delivered','Shipping cost':198}, \n",
    "    102:{'Sender':4,'Receiver':1,'Start date':'18-06-2020','Delivery date':'09-07-2020','Sender location':'Area 2','Receiver location':'Area 4','Delivery status':'Delivered','Shipping cost':275}, \n",
    "    103:{'Sender':2,'Receiver':3,'Start date':'01-12-2020','Delivery date':'Null','Sender location':'Area 5','Receiver location':'Area 1','Delivery status':'In Transit','Shipping cost':200}, \n",
    "    104:{'Sender':1,'Receiver':5,'Start date':'23-06-2020','Delivery date':'25-06-2020','Sender location':'Area 1','Receiver location':'Area 4','Delivery status':'Delivered','Shipping cost':314},\n",
    "    105:{'Sender':3,'Receiver':4,'Start date':'29-08-2020','Delivery date':'10-09-2020','Sender location':'Area 5','Receiver location':'Area 3','Delivery status':'Delivered','Shipping cost':275}, \n",
    "    106:{'Sender':5,'Receiver':2,'Start date':'28-06-2020','Delivery date':'Null','Sender location':'Area 3','Receiver location':'Area 1','Delivery status':'In Transit','Shipping cost':270}}\n",
    "dss=pd.DataFrame(data=ds)\n",
    "dss.T\n",
    "#CREATING THE DATAFRAME USING THE PANDAS \n",
    "#THEN TRANSPOSING IT "
   ]
  },
  {
   "cell_type": "code",
   "execution_count": 2,
   "id": "ab46f119",
   "metadata": {},
   "outputs": [],
   "source": [
    "#Q2. Create a Dictionary to store the information of clients given in the table."
   ]
  },
  {
   "cell_type": "code",
   "execution_count": 35,
   "id": "084f20ab",
   "metadata": {},
   "outputs": [
    {
     "data": {
      "text/plain": [
       "{1: 'Phillip', 2: 'Omega III', 3: 'Ramya', 4: 'Romesh', 5: 'John'}"
      ]
     },
     "execution_count": 35,
     "metadata": {},
     "output_type": "execute_result"
    }
   ],
   "source": [
    "ds={1:'Phillip',2:'Omega III',3:'Ramya',4:'Romesh',5:'John'}\n",
    "ds"
   ]
  },
  {
   "cell_type": "code",
   "execution_count": 34,
   "id": "0f973604",
   "metadata": {},
   "outputs": [],
   "source": [
    "#Q3. Write a code to replace client’s id with their respective name in shipment dictionary using a loop and\n",
    "#dictionary comprehension."
   ]
  },
  {
   "cell_type": "code",
   "execution_count": 61,
   "id": "564ddfa5",
   "metadata": {},
   "outputs": [],
   "source": [
    "result = {}\n",
    "for key, value in dss.items():\n",
    "    new_value = {k: ds[v] if k in ('Sender', 'Receiver') else v for k,v in value.items()}\n",
    "    result[key] = new_value\n",
    "        \n",
    "#results=pd.DataFrame(data=result)\n",
    "#results.T\n"
   ]
  },
  {
   "cell_type": "code",
   "execution_count": 51,
   "id": "dc747be9",
   "metadata": {},
   "outputs": [],
   "source": [
    "#Q4. Print all shipment details that are sent by Phillip"
   ]
  },
  {
   "cell_type": "code",
   "execution_count": 77,
   "id": "06e031ab",
   "metadata": {},
   "outputs": [
    {
     "data": {
      "text/html": [
       "<div>\n",
       "<style scoped>\n",
       "    .dataframe tbody tr th:only-of-type {\n",
       "        vertical-align: middle;\n",
       "    }\n",
       "\n",
       "    .dataframe tbody tr th {\n",
       "        vertical-align: top;\n",
       "    }\n",
       "\n",
       "    .dataframe thead th {\n",
       "        text-align: right;\n",
       "    }\n",
       "</style>\n",
       "<table border=\"1\" class=\"dataframe\">\n",
       "  <thead>\n",
       "    <tr style=\"text-align: right;\">\n",
       "      <th></th>\n",
       "      <th>Sender</th>\n",
       "      <th>Receiver</th>\n",
       "      <th>Start date</th>\n",
       "      <th>Delivery date</th>\n",
       "      <th>Sender location</th>\n",
       "      <th>Receiver location</th>\n",
       "      <th>Delivery status</th>\n",
       "      <th>Shipping cost</th>\n",
       "    </tr>\n",
       "  </thead>\n",
       "  <tbody>\n",
       "    <tr>\n",
       "      <th>0</th>\n",
       "      <td>Phillip</td>\n",
       "      <td>Ramya</td>\n",
       "      <td>14-03-2020</td>\n",
       "      <td>25-03-2020</td>\n",
       "      <td>Area 1</td>\n",
       "      <td>Area 6</td>\n",
       "      <td>Delivered</td>\n",
       "      <td>198</td>\n",
       "    </tr>\n",
       "    <tr>\n",
       "      <th>1</th>\n",
       "      <td>Phillip</td>\n",
       "      <td>John</td>\n",
       "      <td>23-06-2020</td>\n",
       "      <td>25-06-2020</td>\n",
       "      <td>Area 1</td>\n",
       "      <td>Area 4</td>\n",
       "      <td>Delivered</td>\n",
       "      <td>314</td>\n",
       "    </tr>\n",
       "  </tbody>\n",
       "</table>\n",
       "</div>"
      ],
      "text/plain": [
       "    Sender Receiver  Start date Delivery date Sender location  \\\n",
       "0  Phillip    Ramya  14-03-2020    25-03-2020          Area 1   \n",
       "1  Phillip     John  23-06-2020    25-06-2020          Area 1   \n",
       "\n",
       "  Receiver location Delivery status  Shipping cost  \n",
       "0            Area 6       Delivered            198  \n",
       "1            Area 4       Delivered            314  "
      ]
     },
     "execution_count": 77,
     "metadata": {},
     "output_type": "execute_result"
    }
   ],
   "source": [
    "phillips = list(filter(lambda value: value['Sender'] == 'Phillip',\n",
    "                       result.values()))\n",
    "ph=pd.DataFrame(phillips)\n",
    "ph"
   ]
  },
  {
   "cell_type": "code",
   "execution_count": null,
   "id": "6413b610",
   "metadata": {},
   "outputs": [],
   "source": [
    "#Q5. Print all shipment details that are received by Ramya"
   ]
  },
  {
   "cell_type": "code",
   "execution_count": 69,
   "id": "e02b6cee",
   "metadata": {},
   "outputs": [
    {
     "data": {
      "text/html": [
       "<div>\n",
       "<style scoped>\n",
       "    .dataframe tbody tr th:only-of-type {\n",
       "        vertical-align: middle;\n",
       "    }\n",
       "\n",
       "    .dataframe tbody tr th {\n",
       "        vertical-align: top;\n",
       "    }\n",
       "\n",
       "    .dataframe thead th {\n",
       "        text-align: right;\n",
       "    }\n",
       "</style>\n",
       "<table border=\"1\" class=\"dataframe\">\n",
       "  <thead>\n",
       "    <tr style=\"text-align: right;\">\n",
       "      <th></th>\n",
       "      <th>Sender</th>\n",
       "      <th>Receiver</th>\n",
       "      <th>Start date</th>\n",
       "      <th>Delivery date</th>\n",
       "      <th>Sender location</th>\n",
       "      <th>Receiver location</th>\n",
       "      <th>Delivery status</th>\n",
       "      <th>Shipping cost</th>\n",
       "    </tr>\n",
       "  </thead>\n",
       "  <tbody>\n",
       "    <tr>\n",
       "      <th>0</th>\n",
       "      <td>Ramya</td>\n",
       "      <td>Romesh</td>\n",
       "      <td>29-08-2020</td>\n",
       "      <td>10-09-2020</td>\n",
       "      <td>Area 5</td>\n",
       "      <td>Area 3</td>\n",
       "      <td>Delivered</td>\n",
       "      <td>275</td>\n",
       "    </tr>\n",
       "  </tbody>\n",
       "</table>\n",
       "</div>"
      ],
      "text/plain": [
       "  Sender Receiver  Start date Delivery date Sender location Receiver location  \\\n",
       "0  Ramya   Romesh  29-08-2020    10-09-2020          Area 5            Area 3   \n",
       "\n",
       "  Delivery status  Shipping cost  \n",
       "0       Delivered            275  "
      ]
     },
     "execution_count": 69,
     "metadata": {},
     "output_type": "execute_result"
    }
   ],
   "source": [
    "ramya = list(filter(lambda value: value['Sender'] == 'Ramya',\n",
    "                       result.values()))\n",
    "ry=pd.DataFrame(ramya)\n",
    "ry\n",
    "#ramya is denoted by ry \n",
    "#Hence you can see the details f the ramya "
   ]
  },
  {
   "cell_type": "code",
   "execution_count": null,
   "id": "184c3690",
   "metadata": {},
   "outputs": [],
   "source": [
    "#Q6. Print all shipments which are in 'In-Transit' status"
   ]
  },
  {
   "cell_type": "code",
   "execution_count": 81,
   "id": "22744831",
   "metadata": {},
   "outputs": [
    {
     "name": "stdout",
     "output_type": "stream",
     "text": [
      "{101: {'Sender': 1}}\n",
      "{101: {'Receiver': 3}}\n",
      "{101: {'Start date': '14-03-2020'}}\n",
      "{101: {'Delivery date': '25-03-2020'}}\n",
      "{101: {'Sender location': 'Area 1'}}\n",
      "{101: {'Receiver location': 'Area 6'}}\n",
      "{101: {'Delivery status': 'Delivered'}}\n",
      "{101: {'Shipping cost': 198}}\n",
      "{102: {'Sender': 4}}\n",
      "{102: {'Receiver': 1}}\n",
      "{102: {'Start date': '18-06-2020'}}\n",
      "{102: {'Delivery date': '09-07-2020'}}\n",
      "{102: {'Sender location': 'Area 2'}}\n",
      "{102: {'Receiver location': 'Area 4'}}\n",
      "{102: {'Delivery status': 'Delivered'}}\n",
      "{102: {'Shipping cost': 275}}\n",
      "{103: {'Sender': 2}}\n",
      "{103: {'Receiver': 3}}\n",
      "{103: {'Start date': '01-12-2020'}}\n",
      "{103: {'Delivery date': 'Null'}}\n",
      "{103: {'Sender location': 'Area 5'}}\n",
      "{103: {'Receiver location': 'Area 1'}}\n",
      "{103: {'Delivery status': 'In Transit'}}\n",
      "{103: {'Shipping cost': 200}}\n",
      "{104: {'Sender': 1}}\n",
      "{104: {'Receiver': 5}}\n",
      "{104: {'Start date': '23-06-2020'}}\n",
      "{104: {'Delivery date': '25-06-2020'}}\n",
      "{104: {'Sender location': 'Area 1'}}\n",
      "{104: {'Receiver location': 'Area 4'}}\n",
      "{104: {'Delivery status': 'Delivered'}}\n",
      "{104: {'Shipping cost': 314}}\n",
      "{105: {'Sender': 3}}\n",
      "{105: {'Receiver': 4}}\n",
      "{105: {'Start date': '29-08-2020'}}\n",
      "{105: {'Delivery date': '10-09-2020'}}\n",
      "{105: {'Sender location': 'Area 5'}}\n",
      "{105: {'Receiver location': 'Area 3'}}\n",
      "{105: {'Delivery status': 'Delivered'}}\n",
      "{105: {'Shipping cost': 275}}\n",
      "{106: {'Sender': 5}}\n",
      "{106: {'Receiver': 2}}\n",
      "{106: {'Start date': '28-06-2020'}}\n",
      "{106: {'Delivery date': 'Null'}}\n",
      "{106: {'Sender location': 'Area 3'}}\n",
      "{106: {'Receiver location': 'Area 1'}}\n",
      "{106: {'Delivery status': 'In Transit'}}\n",
      "{106: {'Shipping cost': 270}}\n"
     ]
    }
   ],
   "source": [
    "for key,value in dss.items():\n",
    "    for k,v in value.items():\n",
    "        if k in('Sender','Receiver')=='In Transit':\n",
    "            print({key:{k:dc[v]}})\n",
    "        else:\n",
    "            print({key:{k:v}})"
   ]
  },
  {
   "cell_type": "code",
   "execution_count": null,
   "id": "2817e182",
   "metadata": {},
   "outputs": [],
   "source": [
    "#ANS 4"
   ]
  },
  {
   "cell_type": "code",
   "execution_count": 72,
   "id": "c92dbbf4",
   "metadata": {},
   "outputs": [
    {
     "name": "stdout",
     "output_type": "stream",
     "text": [
      "{101: Sender                        1\n",
      "Receiver                      3\n",
      "Start date           14-03-2020\n",
      "Delivery date        25-03-2020\n",
      "Sender location          Area 1\n",
      "Receiver location        Area 6\n",
      "Delivery status       Delivered\n",
      "Shipping cost               198\n",
      "Name: 101, dtype: object}\n",
      "{104: Sender                        1\n",
      "Receiver                      5\n",
      "Start date           23-06-2020\n",
      "Delivery date        25-06-2020\n",
      "Sender location          Area 1\n",
      "Receiver location        Area 4\n",
      "Delivery status       Delivered\n",
      "Shipping cost               314\n",
      "Name: 104, dtype: object}\n"
     ]
    }
   ],
   "source": [
    "for key,value in dss.items():\n",
    "    for k,v in value.items():\n",
    "        if dss[key]['Sender']==1:\n",
    "            print({key:value})\n",
    "            break\n",
    "        \n",
    "        "
   ]
  },
  {
   "cell_type": "code",
   "execution_count": 78,
   "id": "d38817c6",
   "metadata": {},
   "outputs": [],
   "source": [
    "#Q10. Print the name of all senders whose delivery status is ‘in-transit’?"
   ]
  },
  {
   "cell_type": "code",
   "execution_count": 79,
   "id": "043ceb7b",
   "metadata": {},
   "outputs": [
    {
     "name": "stdout",
     "output_type": "stream",
     "text": [
      "{103: Sender                        2\n",
      "Receiver                      3\n",
      "Start date           01-12-2020\n",
      "Delivery date              Null\n",
      "Sender location          Area 5\n",
      "Receiver location        Area 1\n",
      "Delivery status      In Transit\n",
      "Shipping cost               200\n",
      "Name: 103, dtype: object}\n",
      "{106: Sender                        5\n",
      "Receiver                      2\n",
      "Start date           28-06-2020\n",
      "Delivery date              Null\n",
      "Sender location          Area 3\n",
      "Receiver location        Area 1\n",
      "Delivery status      In Transit\n",
      "Shipping cost               270\n",
      "Name: 106, dtype: object}\n"
     ]
    }
   ],
   "source": [
    "for key,value in dss.items():\n",
    "    for k,v in value.items():\n",
    "        if dss[key]['Delivery status']=='In Transit':\n",
    "            print({key:value})\n",
    "            break\n",
    "            "
   ]
  },
  {
   "cell_type": "code",
   "execution_count": null,
   "id": "46926854",
   "metadata": {},
   "outputs": [],
   "source": []
  },
  {
   "cell_type": "code",
   "execution_count": null,
   "id": "98f31837",
   "metadata": {},
   "outputs": [],
   "source": []
  }
 ],
 "metadata": {
  "kernelspec": {
   "display_name": "Python 3 (ipykernel)",
   "language": "python",
   "name": "python3"
  },
  "language_info": {
   "codemirror_mode": {
    "name": "ipython",
    "version": 3
   },
   "file_extension": ".py",
   "mimetype": "text/x-python",
   "name": "python",
   "nbconvert_exporter": "python",
   "pygments_lexer": "ipython3",
   "version": "3.9.12"
  }
 },
 "nbformat": 4,
 "nbformat_minor": 5
}
