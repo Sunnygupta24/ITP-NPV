{
 "cells": [
  {
   "cell_type": "markdown",
   "id": "eb955e76",
   "metadata": {},
   "source": [
    "# IMPORTNG THE ESSENTIAL LIBRARY FOR THE DATA \n",
    "\n"
   ]
  },
  {
   "cell_type": "code",
   "execution_count": null,
   "id": "f466d485",
   "metadata": {},
   "outputs": [],
   "source": [
    "import numpy as np\n",
    "import pandas as pd\n"
   ]
  },
  {
   "cell_type": "code",
   "execution_count": 30,
   "id": "8d8e79e1",
   "metadata": {},
   "outputs": [
    {
     "data": {
      "text/html": [
       "<div>\n",
       "<style scoped>\n",
       "    .dataframe tbody tr th:only-of-type {\n",
       "        vertical-align: middle;\n",
       "    }\n",
       "\n",
       "    .dataframe tbody tr th {\n",
       "        vertical-align: top;\n",
       "    }\n",
       "\n",
       "    .dataframe thead th {\n",
       "        text-align: right;\n",
       "    }\n",
       "</style>\n",
       "<table border=\"1\" class=\"dataframe\">\n",
       "  <thead>\n",
       "    <tr style=\"text-align: right;\">\n",
       "      <th></th>\n",
       "      <th>Sender</th>\n",
       "      <th>Receiver</th>\n",
       "      <th>Start date</th>\n",
       "      <th>Delivery date</th>\n",
       "      <th>Sender location</th>\n",
       "      <th>Receiver location</th>\n",
       "      <th>Delivery status</th>\n",
       "      <th>Shipping cost</th>\n",
       "    </tr>\n",
       "  </thead>\n",
       "  <tbody>\n",
       "    <tr>\n",
       "      <th>101</th>\n",
       "      <td>1</td>\n",
       "      <td>3</td>\n",
       "      <td>14-03-2020</td>\n",
       "      <td>25-03-2020</td>\n",
       "      <td>Area 1</td>\n",
       "      <td>Area 6</td>\n",
       "      <td>Delivered</td>\n",
       "      <td>198</td>\n",
       "    </tr>\n",
       "    <tr>\n",
       "      <th>102</th>\n",
       "      <td>4</td>\n",
       "      <td>1</td>\n",
       "      <td>18-06-2020</td>\n",
       "      <td>09-07-2020</td>\n",
       "      <td>Area 2</td>\n",
       "      <td>Area 4</td>\n",
       "      <td>Delivered</td>\n",
       "      <td>275</td>\n",
       "    </tr>\n",
       "    <tr>\n",
       "      <th>103</th>\n",
       "      <td>2</td>\n",
       "      <td>3</td>\n",
       "      <td>01-12-2020</td>\n",
       "      <td>Null</td>\n",
       "      <td>Area 5</td>\n",
       "      <td>Area 1</td>\n",
       "      <td>In Transit</td>\n",
       "      <td>200</td>\n",
       "    </tr>\n",
       "    <tr>\n",
       "      <th>104</th>\n",
       "      <td>1</td>\n",
       "      <td>5</td>\n",
       "      <td>23-06-2020</td>\n",
       "      <td>25-06-2020</td>\n",
       "      <td>Area 1</td>\n",
       "      <td>Area 4</td>\n",
       "      <td>Delivered</td>\n",
       "      <td>314</td>\n",
       "    </tr>\n",
       "    <tr>\n",
       "      <th>105</th>\n",
       "      <td>3</td>\n",
       "      <td>4</td>\n",
       "      <td>29-08-2020</td>\n",
       "      <td>10-09-2020</td>\n",
       "      <td>Area 5</td>\n",
       "      <td>Area 3</td>\n",
       "      <td>Delivered</td>\n",
       "      <td>275</td>\n",
       "    </tr>\n",
       "    <tr>\n",
       "      <th>106</th>\n",
       "      <td>5</td>\n",
       "      <td>2</td>\n",
       "      <td>28-06-2020</td>\n",
       "      <td>Null</td>\n",
       "      <td>Area 3</td>\n",
       "      <td>Area 1</td>\n",
       "      <td>In Transit</td>\n",
       "      <td>270</td>\n",
       "    </tr>\n",
       "  </tbody>\n",
       "</table>\n",
       "</div>"
      ],
      "text/plain": [
       "    Sender Receiver  Start date Delivery date Sender location  \\\n",
       "101      1        3  14-03-2020    25-03-2020          Area 1   \n",
       "102      4        1  18-06-2020    09-07-2020          Area 2   \n",
       "103      2        3  01-12-2020          Null          Area 5   \n",
       "104      1        5  23-06-2020    25-06-2020          Area 1   \n",
       "105      3        4  29-08-2020    10-09-2020          Area 5   \n",
       "106      5        2  28-06-2020          Null          Area 3   \n",
       "\n",
       "    Receiver location Delivery status Shipping cost  \n",
       "101            Area 6       Delivered           198  \n",
       "102            Area 4       Delivered           275  \n",
       "103            Area 1      In Transit           200  \n",
       "104            Area 4       Delivered           314  \n",
       "105            Area 3       Delivered           275  \n",
       "106            Area 1      In Transit           270  "
      ]
     },
     "execution_count": 30,
     "metadata": {},
     "output_type": "execute_result"
    }
   ],
   "source": [
    "#Q1. Create a Dictionary of lists to store the information of shipments given in the table. The key should be the shipment id and the value with it’s details. \n",
    "\n",
    "\n",
    "ds ={101:{'Sender':1,'Receiver':3,'Start date':'14-03-2020','Delivery date':'25-03-2020','Sender location':'Area 1','Receiver location':'Area 6','Delivery status':'Delivered','Shipping cost':198}, \n",
    "    102:{'Sender':4,'Receiver':1,'Start date':'18-06-2020','Delivery date':'09-07-2020','Sender location':'Area 2','Receiver location':'Area 4','Delivery status':'Delivered','Shipping cost':275}, \n",
    "    103:{'Sender':2,'Receiver':3,'Start date':'01-12-2020','Delivery date':'Null','Sender location':'Area 5','Receiver location':'Area 1','Delivery status':'In Transit','Shipping cost':200}, \n",
    "    104:{'Sender':1,'Receiver':5,'Start date':'23-06-2020','Delivery date':'25-06-2020','Sender location':'Area 1','Receiver location':'Area 4','Delivery status':'Delivered','Shipping cost':314},\n",
    "    105:{'Sender':3,'Receiver':4,'Start date':'29-08-2020','Delivery date':'10-09-2020','Sender location':'Area 5','Receiver location':'Area 3','Delivery status':'Delivered','Shipping cost':275}, \n",
    "    106:{'Sender':5,'Receiver':2,'Start date':'28-06-2020','Delivery date':'Null','Sender location':'Area 3','Receiver location':'Area 1','Delivery status':'In Transit','Shipping cost':270}}\n",
    "dss=pd.DataFrame(data=ds)\n",
    "dss.T\n",
    "#CREATING THE DATAFRAME USING THE PANDAS \n",
    "#THEN TRANSPOSING IT "
   ]
  },
  {
   "cell_type": "code",
   "execution_count": 2,
   "id": "ab46f119",
   "metadata": {},
   "outputs": [],
   "source": [
    "#Q2. Create a Dictionary to store the information of clients given in the table.\n"
   ]
  },
  {
   "cell_type": "code",
   "execution_count": 35,
   "id": "084f20ab",
   "metadata": {},
   "outputs": [
    {
     "data": {
      "text/plain": [
       "{1: 'Phillip', 2: 'Omega III', 3: 'Ramya', 4: 'Romesh', 5: 'John'}"
      ]
     },
     "execution_count": 35,
     "metadata": {},
     "output_type": "execute_result"
    }
   ],
   "source": [
    "\n",
    "ds={1:'Phillip',2:'Omega III',3:'Ramya',4:'Romesh',5:'John'}\n",
    "ds"
   ]
  },
  {
   "cell_type": "code",
   "execution_count": 34,
   "id": "0f973604",
   "metadata": {},
   "outputs": [],
   "source": [
    "#Q3. Write a code to replace client’s id with their respective name in shipment dictionary using a loop and dictionary comprehension\n",
    "\n"
   ]
  },
  {
   "cell_type": "code",
   "execution_count": 7,
   "id": "22744831",
   "metadata": {},
   "outputs": [
    {
     "ename": "AttributeError",
     "evalue": "'str' object has no attribute 'items'",
     "output_type": "error",
     "traceback": [
      "\u001b[1;31m---------------------------------------------------------------------------\u001b[0m",
      "\u001b[1;31mAttributeError\u001b[0m                            Traceback (most recent call last)",
      "Input \u001b[1;32mIn [7]\u001b[0m, in \u001b[0;36m<cell line: 1>\u001b[1;34m()\u001b[0m\n\u001b[0;32m      1\u001b[0m \u001b[38;5;28;01mfor\u001b[39;00m key,value \u001b[38;5;129;01min\u001b[39;00m ds\u001b[38;5;241m.\u001b[39mitems():\n\u001b[1;32m----> 2\u001b[0m     \u001b[38;5;28;01mfor\u001b[39;00m k,v \u001b[38;5;129;01min\u001b[39;00m \u001b[43mvalue\u001b[49m\u001b[38;5;241;43m.\u001b[39;49m\u001b[43mitems\u001b[49m():\n\u001b[0;32m      3\u001b[0m         \u001b[38;5;28;01mif\u001b[39;00m k \u001b[38;5;129;01min\u001b[39;00m(\u001b[38;5;124m'\u001b[39m\u001b[38;5;124mSender\u001b[39m\u001b[38;5;124m'\u001b[39m,\u001b[38;5;124m'\u001b[39m\u001b[38;5;124mReceiver\u001b[39m\u001b[38;5;124m'\u001b[39m):\n\u001b[0;32m      4\u001b[0m             \u001b[38;5;28mprint\u001b[39m({key:{k:dc[v]}})\n",
      "\u001b[1;31mAttributeError\u001b[0m: 'str' object has no attribute 'items'"
     ]
    }
   ],
   "source": [
    "for key,value in ds.items():\n",
    "    for k,v in value.items():\n",
    "        if k in('Sender','Receiver'):\n",
    "            print({key:{k:dc[v]}})\n",
    "        else:\n",
    "            print({key:{k:v}})"
   ]
  },
  {
   "cell_type": "code",
   "execution_count": null,
   "id": "2817e182",
   "metadata": {},
   "outputs": [],
   "source": [
    "#ANS 4"
   ]
  },
  {
   "cell_type": "code",
   "execution_count": 16,
   "id": "349e3881",
   "metadata": {},
   "outputs": [],
   "source": [
    "values= ds.values()\n",
    "vlaues=list(values)"
   ]
  },
  {
   "cell_type": "code",
   "execution_count": 17,
   "id": "c752034b",
   "metadata": {},
   "outputs": [
    {
     "name": "stdout",
     "output_type": "stream",
     "text": [
      "dict_values(['Phillip', 'Omega III', 'Ramya', 'Romesh', 'John'])\n"
     ]
    }
   ],
   "source": [
    "print(values)"
   ]
  },
  {
   "cell_type": "code",
   "execution_count": null,
   "id": "423dadf4",
   "metadata": {},
   "outputs": [],
   "source": []
  },
  {
   "cell_type": "code",
   "execution_count": 19,
   "id": "c92dbbf4",
   "metadata": {},
   "outputs": [
    {
     "ename": "AttributeError",
     "evalue": "'dict_values' object has no attribute 'items'",
     "output_type": "error",
     "traceback": [
      "\u001b[1;31m---------------------------------------------------------------------------\u001b[0m",
      "\u001b[1;31mAttributeError\u001b[0m                            Traceback (most recent call last)",
      "Input \u001b[1;32mIn [19]\u001b[0m, in \u001b[0;36m<cell line: 1>\u001b[1;34m()\u001b[0m\n\u001b[0;32m      1\u001b[0m \u001b[38;5;28;01mfor\u001b[39;00m key,value \u001b[38;5;129;01min\u001b[39;00m ds\u001b[38;5;241m.\u001b[39mitems():\n\u001b[1;32m----> 2\u001b[0m     \u001b[38;5;28;01mfor\u001b[39;00m k,v \u001b[38;5;129;01min\u001b[39;00m \u001b[43mvalues\u001b[49m\u001b[38;5;241;43m.\u001b[39;49m\u001b[43mitems\u001b[49m():\n\u001b[0;32m      3\u001b[0m         \u001b[38;5;28;01mif\u001b[39;00m ds[key][\u001b[38;5;124m'\u001b[39m\u001b[38;5;124mSender\u001b[39m\u001b[38;5;124m'\u001b[39m]\u001b[38;5;241m==\u001b[39m\u001b[38;5;241m1\u001b[39m:\n\u001b[0;32m      4\u001b[0m             \u001b[38;5;28mprint\u001b[39m({key:value})\n",
      "\u001b[1;31mAttributeError\u001b[0m: 'dict_values' object has no attribute 'items'"
     ]
    }
   ],
   "source": [
    "for key,value in ds.items():\n",
    "    for k,v in values.items():\n",
    "        if ds[key]['Sender']==1:\n",
    "            print({key:value})\n",
    "            break\n",
    "        \n",
    "        "
   ]
  },
  {
   "cell_type": "code",
   "execution_count": null,
   "id": "d38817c6",
   "metadata": {},
   "outputs": [],
   "source": [
    "#ANS 6"
   ]
  },
  {
   "cell_type": "code",
   "execution_count": 22,
   "id": "043ceb7b",
   "metadata": {},
   "outputs": [
    {
     "ename": "AttributeError",
     "evalue": "'str' object has no attribute 'items'",
     "output_type": "error",
     "traceback": [
      "\u001b[1;31m---------------------------------------------------------------------------\u001b[0m",
      "\u001b[1;31mAttributeError\u001b[0m                            Traceback (most recent call last)",
      "Input \u001b[1;32mIn [22]\u001b[0m, in \u001b[0;36m<cell line: 1>\u001b[1;34m()\u001b[0m\n\u001b[0;32m      1\u001b[0m \u001b[38;5;28;01mfor\u001b[39;00m key,value \u001b[38;5;129;01min\u001b[39;00m ds\u001b[38;5;241m.\u001b[39mitems():\n\u001b[1;32m----> 2\u001b[0m     \u001b[38;5;28;01mfor\u001b[39;00m k,v \u001b[38;5;129;01min\u001b[39;00m \u001b[43mvalue\u001b[49m\u001b[38;5;241;43m.\u001b[39;49m\u001b[43mitems\u001b[49m():\n\u001b[0;32m      3\u001b[0m         \u001b[38;5;28;01mif\u001b[39;00m ds[key][\u001b[38;5;124m'\u001b[39m\u001b[38;5;124mDelivery status\u001b[39m\u001b[38;5;124m'\u001b[39m]\u001b[38;5;241m==\u001b[39m\u001b[38;5;124m'\u001b[39m\u001b[38;5;124mIn Transit\u001b[39m\u001b[38;5;124m'\u001b[39m:\n\u001b[0;32m      4\u001b[0m             \u001b[38;5;28mprint\u001b[39m({key:value})\n",
      "\u001b[1;31mAttributeError\u001b[0m: 'str' object has no attribute 'items'"
     ]
    }
   ],
   "source": [
    "for key,value in ds.items():\n",
    "    for k,v in value.items():\n",
    "        if ds[key]['Delivery status']=='In Transit':\n",
    "            print({key:value})\n",
    "            break\n",
    "            "
   ]
  },
  {
   "cell_type": "code",
   "execution_count": null,
   "id": "46926854",
   "metadata": {},
   "outputs": [],
   "source": []
  },
  {
   "cell_type": "code",
   "execution_count": null,
   "id": "98f31837",
   "metadata": {},
   "outputs": [],
   "source": []
  }
 ],
 "metadata": {
  "kernelspec": {
   "display_name": "Python 3 (ipykernel)",
   "language": "python",
   "name": "python3"
  },
  "language_info": {
   "codemirror_mode": {
    "name": "ipython",
    "version": 3
   },
   "file_extension": ".py",
   "mimetype": "text/x-python",
   "name": "python",
   "nbconvert_exporter": "python",
   "pygments_lexer": "ipython3",
   "version": "3.9.12"
  }
 },
 "nbformat": 4,
 "nbformat_minor": 5
}
